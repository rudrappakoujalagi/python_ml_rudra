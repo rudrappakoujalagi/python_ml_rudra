{
  "nbformat": 4,
  "nbformat_minor": 0,
  "metadata": {
    "colab": {
      "provenance": []
    },
    "kernelspec": {
      "name": "python3",
      "display_name": "Python 3"
    },
    "language_info": {
      "name": "python"
    }
  },
  "cells": [
    {
      "cell_type": "code",
      "execution_count": 10,
      "metadata": {
        "colab": {
          "base_uri": "https://localhost:8080/"
        },
        "id": "HZeD7sKp_ZGG",
        "outputId": "43c957eb-b946-4880-c8fb-f60ad1b2f1a7"
      },
      "outputs": [
        {
          "output_type": "execute_result",
          "data": {
            "text/plain": [
              "[55, 'hpe']"
            ]
          },
          "metadata": {},
          "execution_count": 10
        }
      ],
      "source": [
        "tuple1=('sky',55,'hpe')\n",
        "tuple1\n",
        "s=list(tuple1)\n",
        "s\n",
        "s.remove('sky')\n",
        "s"
      ]
    },
    {
      "cell_type": "code",
      "source": [
        "input_string = \"Hello, world!\"\n",
        "length = len(input_string)\n",
        "\n",
        "print(\"The length of the string is:\", length)\n"
      ],
      "metadata": {
        "colab": {
          "base_uri": "https://localhost:8080/"
        },
        "id": "ZElI-7uT_9mE",
        "outputId": "fbc4528a-bccd-43d6-8615-dd64e0ef051c"
      },
      "execution_count": 2,
      "outputs": [
        {
          "output_type": "stream",
          "name": "stdout",
          "text": [
            "The length of the string is: 13\n"
          ]
        }
      ]
    },
    {
      "cell_type": "code",
      "source": [
        "start = int(input(\"Enter the start of the range: \"))\n",
        "end = int(input(\"Enter the end of the range: \"))\n",
        "\n",
        "num = start\n",
        "while num <= end:\n",
        "    square = num ** 2\n",
        "    print(f\"The square of {num} is: {square}\")\n",
        "    num += 1\n"
      ],
      "metadata": {
        "colab": {
          "base_uri": "https://localhost:8080/"
        },
        "id": "ndmhi4IlAS5_",
        "outputId": "8d0aa785-b622-40b8-9b1e-79135074094b"
      },
      "execution_count": 3,
      "outputs": [
        {
          "output_type": "stream",
          "name": "stdout",
          "text": [
            "Enter the start of the range: 1\n",
            "Enter the end of the range: 5\n",
            "The square of 1 is: 1\n",
            "The square of 2 is: 4\n",
            "The square of 3 is: 9\n",
            "The square of 4 is: 16\n",
            "The square of 5 is: 25\n"
          ]
        }
      ]
    },
    {
      "cell_type": "code",
      "source": [
        " import math\n",
        "start = int(10)\n",
        "end = int(20)\n",
        "\n",
        "for num in range(start, end + 1):\n",
        "\n",
        "    s=math.sqrt(num)\n",
        "    print(f\"The square of {num} is: {s}\")\n"
      ],
      "metadata": {
        "colab": {
          "base_uri": "https://localhost:8080/"
        },
        "id": "jK9_fvAuAbnA",
        "outputId": "8862b53c-3556-4f1d-d2e6-aa782dd79554"
      },
      "execution_count": 12,
      "outputs": [
        {
          "output_type": "stream",
          "name": "stdout",
          "text": [
            "The square of 10 is: 3.1622776601683795\n",
            "The square of 11 is: 3.3166247903554\n",
            "The square of 12 is: 3.4641016151377544\n",
            "The square of 13 is: 3.605551275463989\n",
            "The square of 14 is: 3.7416573867739413\n",
            "The square of 15 is: 3.872983346207417\n",
            "The square of 16 is: 4.0\n",
            "The square of 17 is: 4.123105625617661\n",
            "The square of 18 is: 4.242640687119285\n",
            "The square of 19 is: 4.358898943540674\n",
            "The square of 20 is: 4.47213595499958\n"
          ]
        }
      ]
    },
    {
      "cell_type": "code",
      "source": [
        "list1=['rud',99,'sks']\n",
        "list1.append(98)\n",
        "list1\n",
        "list1.pop(2)\n"
      ],
      "metadata": {
        "colab": {
          "base_uri": "https://localhost:8080/",
          "height": 36
        },
        "id": "wjZyWbMkB3YV",
        "outputId": "8729ef30-57cc-4d09-fcfd-95f5a7006fb4"
      },
      "execution_count": 9,
      "outputs": [
        {
          "output_type": "execute_result",
          "data": {
            "text/plain": [
              "'sks'"
            ],
            "application/vnd.google.colaboratory.intrinsic+json": {
              "type": "string"
            }
          },
          "metadata": {},
          "execution_count": 9
        }
      ]
    }
  ]
}